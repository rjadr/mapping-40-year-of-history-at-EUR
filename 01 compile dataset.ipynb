{
 "cells": [
  {
   "cell_type": "code",
   "execution_count": 82,
   "metadata": {},
   "outputs": [],
   "source": [
    "# retreive and scrape thesis titles from Worldcat\n",
    "\n",
    "from bs4 import BeautifulSoup\n",
    "import requests\n",
    "import time \n",
    "import re\n",
    "thesislist = []\n",
    "\n",
    "def Worldcat(url):\n",
    "    global thesislist\n",
    "    print(url)\n",
    "    page = requests.get(url)\n",
    "    soup = BeautifulSoup(page.text, 'html.parser')\n",
    "\n",
    "    for book in soup.find_all('td', class_='result details'):\n",
    "        oclc_number = book.find('div', attrs={'oclc_number'}).get_text(strip=True)\n",
    "        authors = book.find('div', attrs={'author'}).get_text(strip=True)\n",
    "        author = authors.split(\";\")[0].split(\"by \")[1]\n",
    "        title = book.find('div', attrs={'name'}).get_text(strip=True)\n",
    "        try:\n",
    "            publisher = book.find('div', attrs={'publisher'}).get_text(strip=True)\n",
    "            year = re.search('\\d{4}', publisher).group()\n",
    "        except AttributeError:\n",
    "            publisher = \"\"\n",
    "            year = \"\"\n",
    "        d = {\"author\": author, \"title\": title, \"year\": year, \"publisher\": publisher, \"oclc_number\": oclc_number, \"overig\": authors}\n",
    "        thesislist.append(d)\n",
    "    \n",
    "    try:\n",
    "        important_page = soup.findAll('a', href=True, text='Next')\n",
    "        time.sleep(2)\n",
    "        Worldcat('http://www.worldcat.org'+ important_page[0]['href'])\n",
    "    except:\n",
    "        print(\"Finished\")\n",
    "\n",
    "url='https://www.worldcat.org/search?q=pb%3A%28Erasmus+Universiteit%29+AND+su%3A%28scripties%29+AND+kw%3A%28FHKW+OR+Kunstwetenschappen+OR+Maatschappijgeschiedenis+OR+History%29+AND+ot%3A%2815.%3F%29&qt=owc_search'\n",
    "Worldcat(url)"
   ]
  },
  {
   "cell_type": "code",
   "execution_count": 83,
   "metadata": {},
   "outputs": [],
   "source": [
    "# import thesis titles in Pandas Dataframe\n",
    "\n",
    "import pandas as pd\n",
    "\n",
    "df = pd.DataFrame(thesislist)"
   ]
  },
  {
   "cell_type": "code",
   "execution_count": 84,
   "metadata": {},
   "outputs": [],
   "source": [
    "# retreive additional theses from thesis.eur.nl\n",
    "\n",
    "headers = {\n",
    "    'User-Agent': 'Mozilla/5.0 (X11; Ubuntu; Linux x86_64; rv:62.0) Gecko/20100101 Firefox/62.0',\n",
    "    'Accept': 'text/html,application/xhtml+xml,application/xml;q=0.9,*/*;q=0.8',\n",
    "    'Accept-Language': 'en-US,en;q=0.5',\n",
    "    'Referer': 'https://thesis.eur.nl/',\n",
    "    'Content-Type': 'application/x-www-form-urlencoded',\n",
    "    'Connection': 'keep-alive',\n",
    "    'Upgrade-Insecure-Requests': '1',\n",
    "}\n",
    "\n",
    "data = {\n",
    "  'format': 'csl',\n",
    "  'style': '',\n",
    "  'query': '{\"sort\":\"auto\",\"from\":0,\"facets\":[{\"title\":\"Type\",\"field_id\":\"type\",\"max_terms\":100,\"max_display_terms\":5,\"sort_by\":\"count\",\"sort_order\":\"descending\",\"filters\":[],\"partOf_start\":0,\"type\":\"default\"},{\"title\":\"Publicly Available\",\"field_id\":\"public\",\"max_terms\":100,\"max_display_terms\":5,\"sort_by\":\"term\",\"sort_order\":\"descending\",\"filters\":[],\"partOf_start\":0,\"type\":\"boolean\"},{\"title\":\"Year\",\"field_id\":\"issued_date\",\"max_terms\":100,\"max_display_terms\":10,\"sort_by\":\"term\",\"sort_order\":\"descending\",\"filters\":[],\"partOf_start\":0,\"type\":\"year\"},{\"title\":\"Affiliation\",\"field_id\":\"affiliation_label_partOf\",\"max_terms\":100,\"max_display_terms\":5,\"sort_by\":\"count\",\"sort_order\":\"descending\",\"filters\":[{\"term\":\"Erasmus School of History, Culture and Communication\"}],\"partOf_start\":0,\"type\":\"partOf\"},{\"title\":\"Series\",\"field_id\":\"host_series_label\",\"max_terms\":100,\"max_display_terms\":5,\"sort_by\":\"count\",\"sort_order\":\"descending\",\"filters\":[{\"term\":\"Maatschappijgeschiedenis / History of Society\"},{\"term\":\"RM - Early Modern Intellectual History\"}],\"partOf_start\":0,\"type\":\"default\"}],\"took\":8,\"filters\":{\"values\":[{\"query\":\"\",\"field_id\":\"all\"}],\"options\":[{\"field_id\":\"all\",\"title\":\"All Fields\"},{\"field_id\":\"title\",\"title\":\"Title\"},{\"field_id\":\"author\",\"title\":\"Author\"},{\"field_id\":\"affiliation\",\"title\":\"Affiliation\"},{\"field_id\":\"series\",\"title\":\"Series\"}]},\"sortings\":[{\"field\":[{\"field_id\":\"_score\",\"order\":\"descending\"},{\"field_id\":\"issued_date\",\"order\":\"descending\"}],\"id\":\"score\",\"title\":\"Score / Year\"},{\"field\":[{\"field_id\":\"title_label\",\"order\":\"ascending\"}],\"id\":\"title\",\"title\":\"Title\"},{\"field\":[{\"field_id\":\"issued_date\",\"order\":\"descending\"}],\"id\":\"year_desc\",\"title\":\"Year (descending)\"},{\"field\":[{\"field_id\":\"issued_date\",\"order\":\"ascending\"}],\"id\":\"year_asc\",\"title\":\"Year (ascending)\"}],\"total\":267,\"old_total\":267}'\n",
    "}\n",
    "\n",
    "response = requests.post('https://thesis.eur.nl/search', headers=headers, data=data)\n",
    "data = response.json()"
   ]
  },
  {
   "cell_type": "code",
   "execution_count": 85,
   "metadata": {},
   "outputs": [],
   "source": [
    "thesislist2 = []\n",
    "\n",
    "for i in data:\n",
    "    url = i['URL']\n",
    "    title = i['title']\n",
    "    year = i['issued']['date-parts'][0][0]\n",
    "    try:\n",
    "        author = i['author'][0][\"name\"]\n",
    "    except:\n",
    "        author = \"\"\n",
    "    page = requests.get(url)\n",
    "    soup = BeautifulSoup(page.text, 'html.parser')\n",
    "    try:\n",
    "        subtitle = soup.find('p', class_=\"lead subtitle\").get_text(strip=True)\n",
    "        print(\"subtitle found: \" + subtitle)\n",
    "    except:\n",
    "        subtitle = \"\"\n",
    "    \n",
    "    title = title + \". \" + subtitle\n",
    "    d = {\"author\": author, \"title\": title, \"url\": url, \"year\": year, }\n",
    "    thesislist2.append(d)\n",
    "    print(year, title)\n",
    "    time.sleep(2)"
   ]
  },
  {
   "cell_type": "code",
   "execution_count": 86,
   "metadata": {},
   "outputs": [
    {
     "data": {
      "text/html": [
       "<div>\n",
       "<style scoped>\n",
       "    .dataframe tbody tr th:only-of-type {\n",
       "        vertical-align: middle;\n",
       "    }\n",
       "\n",
       "    .dataframe tbody tr th {\n",
       "        vertical-align: top;\n",
       "    }\n",
       "\n",
       "    .dataframe thead th {\n",
       "        text-align: right;\n",
       "    }\n",
       "</style>\n",
       "<table border=\"1\" class=\"dataframe\">\n",
       "  <thead>\n",
       "    <tr style=\"text-align: right;\">\n",
       "      <th></th>\n",
       "      <th>author</th>\n",
       "      <th>title</th>\n",
       "      <th>url</th>\n",
       "      <th>year</th>\n",
       "    </tr>\n",
       "  </thead>\n",
       "  <tbody>\n",
       "    <tr>\n",
       "      <th>0</th>\n",
       "      <td>Kavak, A</td>\n",
       "      <td>Nederlands-Indië in de ogen van Nederlandse re...</td>\n",
       "      <td>http://hdl.handle.net/2105/42777</td>\n",
       "      <td>2018</td>\n",
       "    </tr>\n",
       "    <tr>\n",
       "      <th>1</th>\n",
       "      <td>Aarts, M.</td>\n",
       "      <td>Selama-lamanya? Noties van Indisch-heid bij Ro...</td>\n",
       "      <td>http://hdl.handle.net/2105/42779</td>\n",
       "      <td>2017</td>\n",
       "    </tr>\n",
       "    <tr>\n",
       "      <th>2</th>\n",
       "      <td>Loon, I. van</td>\n",
       "      <td>Bemiddelen na een bedrijfssluiting: De integra...</td>\n",
       "      <td>http://hdl.handle.net/2105/42780</td>\n",
       "      <td>2017</td>\n",
       "    </tr>\n",
       "    <tr>\n",
       "      <th>3</th>\n",
       "      <td>H.J. Moeliker</td>\n",
       "      <td>Het bekeerde zelf: Een onderzoek naar de genea...</td>\n",
       "      <td>http://hdl.handle.net/2105/41338</td>\n",
       "      <td>2017</td>\n",
       "    </tr>\n",
       "    <tr>\n",
       "      <th>4</th>\n",
       "      <td>J.F. Ebeltjes</td>\n",
       "      <td>Mahanisme in Nederland 1890-1914.</td>\n",
       "      <td>http://hdl.handle.net/2105/39324</td>\n",
       "      <td>2017</td>\n",
       "    </tr>\n",
       "  </tbody>\n",
       "</table>\n",
       "</div>"
      ],
      "text/plain": [
       "          author                                              title  \\\n",
       "0       Kavak, A  Nederlands-Indië in de ogen van Nederlandse re...   \n",
       "1      Aarts, M.  Selama-lamanya? Noties van Indisch-heid bij Ro...   \n",
       "2   Loon, I. van  Bemiddelen na een bedrijfssluiting: De integra...   \n",
       "3  H.J. Moeliker  Het bekeerde zelf: Een onderzoek naar de genea...   \n",
       "4  J.F. Ebeltjes                 Mahanisme in Nederland 1890-1914.    \n",
       "\n",
       "                                url  year  \n",
       "0  http://hdl.handle.net/2105/42777  2018  \n",
       "1  http://hdl.handle.net/2105/42779  2017  \n",
       "2  http://hdl.handle.net/2105/42780  2017  \n",
       "3  http://hdl.handle.net/2105/41338  2017  \n",
       "4  http://hdl.handle.net/2105/39324  2017  "
      ]
     },
     "execution_count": 86,
     "metadata": {},
     "output_type": "execute_result"
    }
   ],
   "source": [
    "# thesis repository titles to pandas dataframe\n",
    "\n",
    "df2 = pd.DataFrame(thesislist2)\n",
    "df2.head()"
   ]
  },
  {
   "cell_type": "code",
   "execution_count": 129,
   "metadata": {},
   "outputs": [
    {
     "data": {
      "text/html": [
       "<div>\n",
       "<style scoped>\n",
       "    .dataframe tbody tr th:only-of-type {\n",
       "        vertical-align: middle;\n",
       "    }\n",
       "\n",
       "    .dataframe tbody tr th {\n",
       "        vertical-align: top;\n",
       "    }\n",
       "\n",
       "    .dataframe thead th {\n",
       "        text-align: right;\n",
       "    }\n",
       "</style>\n",
       "<table border=\"1\" class=\"dataframe\">\n",
       "  <thead>\n",
       "    <tr style=\"text-align: right;\">\n",
       "      <th></th>\n",
       "      <th>author</th>\n",
       "      <th>title</th>\n",
       "      <th>year</th>\n",
       "    </tr>\n",
       "  </thead>\n",
       "  <tbody>\n",
       "    <tr>\n",
       "      <th>0</th>\n",
       "      <td>Jolien Harmsen</td>\n",
       "      <td>You gave us the dreaming : Aboriginal law and ...</td>\n",
       "      <td>1993</td>\n",
       "    </tr>\n",
       "    <tr>\n",
       "      <th>1</th>\n",
       "      <td>Naomi van Stapele</td>\n",
       "      <td>Kudé? kudedi! try or die : ethnicity, class a...</td>\n",
       "      <td>2007</td>\n",
       "    </tr>\n",
       "    <tr>\n",
       "      <th>2</th>\n",
       "      <td>Merel van Ekdom</td>\n",
       "      <td>Finance of heritage factories</td>\n",
       "      <td>2007</td>\n",
       "    </tr>\n",
       "    <tr>\n",
       "      <th>3</th>\n",
       "      <td>Estrid Bos</td>\n",
       "      <td>From paganism to Christianity</td>\n",
       "      <td>2005</td>\n",
       "    </tr>\n",
       "    <tr>\n",
       "      <th>4</th>\n",
       "      <td>Erik Vellinga</td>\n",
       "      <td>Pride and prejudice : Anglo-Indians and racial...</td>\n",
       "      <td>1994</td>\n",
       "    </tr>\n",
       "  </tbody>\n",
       "</table>\n",
       "</div>"
      ],
      "text/plain": [
       "              author                                              title  year\n",
       "0     Jolien Harmsen  You gave us the dreaming : Aboriginal law and ...  1993\n",
       "1  Naomi van Stapele  Kudé? kudedi! try or die : ethnicity, class a...  2007\n",
       "2    Merel van Ekdom                      Finance of heritage factories  2007\n",
       "3         Estrid Bos                      From paganism to Christianity  2005\n",
       "4      Erik Vellinga  Pride and prejudice : Anglo-Indians and racial...  1994"
      ]
     },
     "execution_count": 129,
     "metadata": {},
     "output_type": "execute_result"
    }
   ],
   "source": [
    "# merge datasets\n",
    "new_df = df[['author', 'title', 'year']].copy()\n",
    "new_df2 = df2[['author', 'title', 'year']].copy()\n",
    "new_df = new_df.append(new_df2)\n",
    "new_df.reset_index(inplace=True)\n",
    "new_df = new_df.drop('index', axis=1)\n",
    "new_df.head()"
   ]
  },
  {
   "cell_type": "code",
   "execution_count": 130,
   "metadata": {},
   "outputs": [
    {
     "data": {
      "text/plain": [
       "923"
      ]
     },
     "execution_count": 130,
     "metadata": {},
     "output_type": "execute_result"
    }
   ],
   "source": [
    "len(new_df)"
   ]
  },
  {
   "cell_type": "code",
   "execution_count": 131,
   "metadata": {},
   "outputs": [
    {
     "data": {
      "text/plain": [
       "52"
      ]
     },
     "execution_count": 131,
     "metadata": {},
     "output_type": "execute_result"
    }
   ],
   "source": [
    "# count duplicate authors\n",
    "len(pd.concat(g for _, g in new_df.groupby(\"title\") if len(g) > 1))"
   ]
  },
  {
   "cell_type": "code",
   "execution_count": 132,
   "metadata": {},
   "outputs": [],
   "source": [
    "# drop duplicates by author\n",
    "new_df.drop_duplicates(['author'], keep='last', inplace=True)"
   ]
  },
  {
   "cell_type": "code",
   "execution_count": 133,
   "metadata": {},
   "outputs": [
    {
     "data": {
      "text/html": [
       "<div>\n",
       "<style scoped>\n",
       "    .dataframe tbody tr th:only-of-type {\n",
       "        vertical-align: middle;\n",
       "    }\n",
       "\n",
       "    .dataframe tbody tr th {\n",
       "        vertical-align: top;\n",
       "    }\n",
       "\n",
       "    .dataframe thead th {\n",
       "        text-align: right;\n",
       "    }\n",
       "</style>\n",
       "<table border=\"1\" class=\"dataframe\">\n",
       "  <thead>\n",
       "    <tr style=\"text-align: right;\">\n",
       "      <th></th>\n",
       "      <th>author</th>\n",
       "      <th>title</th>\n",
       "      <th>year</th>\n",
       "    </tr>\n",
       "  </thead>\n",
       "  <tbody>\n",
       "    <tr>\n",
       "      <th>854</th>\n",
       "      <td>Bouter, K. de</td>\n",
       "      <td>Curbing Communism. American motivations for in...</td>\n",
       "      <td>2013</td>\n",
       "    </tr>\n",
       "    <tr>\n",
       "      <th>855</th>\n",
       "      <td>Bouter, Kyle de</td>\n",
       "      <td>Curbing Communism. American motivations for in...</td>\n",
       "      <td>2013</td>\n",
       "    </tr>\n",
       "    <tr>\n",
       "      <th>718</th>\n",
       "      <td>Beek, Julisa van</td>\n",
       "      <td>The Forming of a Community in the Heart of the...</td>\n",
       "      <td>2013</td>\n",
       "    </tr>\n",
       "    <tr>\n",
       "      <th>856</th>\n",
       "      <td>Beek, J.J. van</td>\n",
       "      <td>The Forming of a Community in the Heart of the...</td>\n",
       "      <td>2013</td>\n",
       "    </tr>\n",
       "    <tr>\n",
       "      <th>866</th>\n",
       "      <td>Sule E.O.</td>\n",
       "      <td>The Netherlands development cooperation with A...</td>\n",
       "      <td>2013</td>\n",
       "    </tr>\n",
       "    <tr>\n",
       "      <th>887</th>\n",
       "      <td>Sule, E.O.</td>\n",
       "      <td>The Netherlands development cooperation with A...</td>\n",
       "      <td>2011</td>\n",
       "    </tr>\n",
       "    <tr>\n",
       "      <th>671</th>\n",
       "      <td></td>\n",
       "      <td>The United States and the Founding of NATO. Ho...</td>\n",
       "      <td>2017</td>\n",
       "    </tr>\n",
       "    <tr>\n",
       "      <th>804</th>\n",
       "      <td>Stef Schuthof</td>\n",
       "      <td>The United States and the Founding of NATO. Ho...</td>\n",
       "      <td>2017</td>\n",
       "    </tr>\n",
       "  </tbody>\n",
       "</table>\n",
       "</div>"
      ],
      "text/plain": [
       "               author                                              title  year\n",
       "854     Bouter, K. de  Curbing Communism. American motivations for in...  2013\n",
       "855   Bouter, Kyle de  Curbing Communism. American motivations for in...  2013\n",
       "718  Beek, Julisa van  The Forming of a Community in the Heart of the...  2013\n",
       "856    Beek, J.J. van  The Forming of a Community in the Heart of the...  2013\n",
       "866         Sule E.O.  The Netherlands development cooperation with A...  2013\n",
       "887        Sule, E.O.  The Netherlands development cooperation with A...  2011\n",
       "671                    The United States and the Founding of NATO. Ho...  2017\n",
       "804     Stef Schuthof  The United States and the Founding of NATO. Ho...  2017"
      ]
     },
     "execution_count": 133,
     "metadata": {},
     "output_type": "execute_result"
    }
   ],
   "source": [
    "# find missed duplicates by title\n",
    "pd.concat(g for _, g in new_df.groupby(\"title\") if len(g) > 1)"
   ]
  },
  {
   "cell_type": "code",
   "execution_count": 134,
   "metadata": {},
   "outputs": [
    {
     "data": {
      "text/plain": [
       "895"
      ]
     },
     "execution_count": 134,
     "metadata": {},
     "output_type": "execute_result"
    }
   ],
   "source": [
    "# remove missed duplicates by title \n",
    "new_df.drop(854, inplace=True)\n",
    "new_df.drop(856, inplace=True)\n",
    "new_df.drop(866, inplace=True)\n",
    "new_df.drop(671, inplace=True)\n",
    "len(new_df)"
   ]
  },
  {
   "cell_type": "code",
   "execution_count": 141,
   "metadata": {},
   "outputs": [
    {
     "data": {
      "text/plain": [
       "author    object\n",
       "title     object\n",
       "year      object\n",
       "dtype: object"
      ]
     },
     "execution_count": 141,
     "metadata": {},
     "output_type": "execute_result"
    }
   ],
   "source": [
    "new_df.dtypes"
   ]
  },
  {
   "cell_type": "code",
   "execution_count": 142,
   "metadata": {},
   "outputs": [
    {
     "data": {
      "text/html": [
       "<div>\n",
       "<style scoped>\n",
       "    .dataframe tbody tr th:only-of-type {\n",
       "        vertical-align: middle;\n",
       "    }\n",
       "\n",
       "    .dataframe tbody tr th {\n",
       "        vertical-align: top;\n",
       "    }\n",
       "\n",
       "    .dataframe thead th {\n",
       "        text-align: right;\n",
       "    }\n",
       "</style>\n",
       "<table border=\"1\" class=\"dataframe\">\n",
       "  <thead>\n",
       "    <tr style=\"text-align: right;\">\n",
       "      <th></th>\n",
       "      <th>author</th>\n",
       "      <th>title</th>\n",
       "      <th>year</th>\n",
       "    </tr>\n",
       "  </thead>\n",
       "  <tbody>\n",
       "    <tr>\n",
       "      <th>0</th>\n",
       "      <td>Jolien Harmsen</td>\n",
       "      <td>You gave us the dreaming : Aboriginal law and ...</td>\n",
       "      <td>1993</td>\n",
       "    </tr>\n",
       "    <tr>\n",
       "      <th>1</th>\n",
       "      <td>Naomi van Stapele</td>\n",
       "      <td>Kudé? kudedi! try or die : ethnicity, class a...</td>\n",
       "      <td>2007</td>\n",
       "    </tr>\n",
       "    <tr>\n",
       "      <th>2</th>\n",
       "      <td>Merel van Ekdom</td>\n",
       "      <td>Finance of heritage factories</td>\n",
       "      <td>2007</td>\n",
       "    </tr>\n",
       "    <tr>\n",
       "      <th>3</th>\n",
       "      <td>Estrid Bos</td>\n",
       "      <td>From paganism to Christianity</td>\n",
       "      <td>2005</td>\n",
       "    </tr>\n",
       "    <tr>\n",
       "      <th>4</th>\n",
       "      <td>Erik Vellinga</td>\n",
       "      <td>Pride and prejudice : Anglo-Indians and racial...</td>\n",
       "      <td>1994</td>\n",
       "    </tr>\n",
       "  </tbody>\n",
       "</table>\n",
       "</div>"
      ],
      "text/plain": [
       "              author                                              title  year\n",
       "0     Jolien Harmsen  You gave us the dreaming : Aboriginal law and ...  1993\n",
       "1  Naomi van Stapele  Kudé? kudedi! try or die : ethnicity, class a...  2007\n",
       "2    Merel van Ekdom                      Finance of heritage factories  2007\n",
       "3         Estrid Bos                      From paganism to Christianity  2005\n",
       "4      Erik Vellinga  Pride and prejudice : Anglo-Indians and racial...  1994"
      ]
     },
     "execution_count": 142,
     "metadata": {},
     "output_type": "execute_result"
    }
   ],
   "source": [
    "new_df['year'] = new_df['year'].astype(int)\n",
    "new_df.head()"
   ]
  },
  {
   "cell_type": "code",
   "execution_count": 148,
   "metadata": {},
   "outputs": [
    {
     "data": {
      "text/html": [
       "<div>\n",
       "<style scoped>\n",
       "    .dataframe tbody tr th:only-of-type {\n",
       "        vertical-align: middle;\n",
       "    }\n",
       "\n",
       "    .dataframe tbody tr th {\n",
       "        vertical-align: top;\n",
       "    }\n",
       "\n",
       "    .dataframe thead th {\n",
       "        text-align: right;\n",
       "    }\n",
       "</style>\n",
       "<table border=\"1\" class=\"dataframe\">\n",
       "  <thead>\n",
       "    <tr style=\"text-align: right;\">\n",
       "      <th></th>\n",
       "      <th>author</th>\n",
       "      <th>title</th>\n",
       "      <th>year</th>\n",
       "    </tr>\n",
       "  </thead>\n",
       "  <tbody>\n",
       "    <tr>\n",
       "      <th>0</th>\n",
       "      <td>Jean Spanjersberg</td>\n",
       "      <td>De institutionele groei van het Nederlandse on...</td>\n",
       "      <td>1983</td>\n",
       "    </tr>\n",
       "    <tr>\n",
       "      <th>1</th>\n",
       "      <td>Dick de Winter</td>\n",
       "      <td>Disciplinering van protestgedrag van havenarbe...</td>\n",
       "      <td>1983</td>\n",
       "    </tr>\n",
       "    <tr>\n",
       "      <th>2</th>\n",
       "      <td>Christi Boerdam</td>\n",
       "      <td>Ongehuwde moeders te Rotterdam in het laatste ...</td>\n",
       "      <td>1983</td>\n",
       "    </tr>\n",
       "    <tr>\n",
       "      <th>3</th>\n",
       "      <td>B W H Guyt</td>\n",
       "      <td>De visserij op de Noordzee : de lage landen aa...</td>\n",
       "      <td>1983</td>\n",
       "    </tr>\n",
       "    <tr>\n",
       "      <th>4</th>\n",
       "      <td>Harma Tent</td>\n",
       "      <td>Het beeld van de Amerikaanse indiaan in Iberis...</td>\n",
       "      <td>1983</td>\n",
       "    </tr>\n",
       "  </tbody>\n",
       "</table>\n",
       "</div>"
      ],
      "text/plain": [
       "              author                                              title  year\n",
       "0  Jean Spanjersberg  De institutionele groei van het Nederlandse on...  1983\n",
       "1     Dick de Winter  Disciplinering van protestgedrag van havenarbe...  1983\n",
       "2    Christi Boerdam  Ongehuwde moeders te Rotterdam in het laatste ...  1983\n",
       "3         B W H Guyt  De visserij op de Noordzee : de lage landen aa...  1983\n",
       "4         Harma Tent  Het beeld van de Amerikaanse indiaan in Iberis...  1983"
      ]
     },
     "execution_count": 148,
     "metadata": {},
     "output_type": "execute_result"
    }
   ],
   "source": [
    "new_df = new_df.sort_values('year')\n",
    "new_df.reset_index(inplace=True)\n",
    "new_df = new_df.drop('index', axis=1)\n",
    "new_df.head()"
   ]
  },
  {
   "cell_type": "code",
   "execution_count": 150,
   "metadata": {},
   "outputs": [],
   "source": [
    "new_df.to_csv(\"thesis_titles.csv\", encoding='utf-8')"
   ]
  }
 ],
 "metadata": {
  "kernelspec": {
   "display_name": "Python 3",
   "language": "python",
   "name": "python3"
  },
  "language_info": {
   "codemirror_mode": {
    "name": "ipython",
    "version": 3
   },
   "file_extension": ".py",
   "mimetype": "text/x-python",
   "name": "python",
   "nbconvert_exporter": "python",
   "pygments_lexer": "ipython3",
   "version": "3.6.3"
  }
 },
 "nbformat": 4,
 "nbformat_minor": 2
}
