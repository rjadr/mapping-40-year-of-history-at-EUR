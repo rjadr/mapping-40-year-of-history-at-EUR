{
 "cells": [
  {
   "cell_type": "code",
   "execution_count": 5,
   "metadata": {},
   "outputs": [
    {
     "data": {
      "text/html": [
       "<div>\n",
       "<style scoped>\n",
       "    .dataframe tbody tr th:only-of-type {\n",
       "        vertical-align: middle;\n",
       "    }\n",
       "\n",
       "    .dataframe tbody tr th {\n",
       "        vertical-align: top;\n",
       "    }\n",
       "\n",
       "    .dataframe thead th {\n",
       "        text-align: right;\n",
       "    }\n",
       "</style>\n",
       "<table border=\"1\" class=\"dataframe\">\n",
       "  <thead>\n",
       "    <tr style=\"text-align: right;\">\n",
       "      <th></th>\n",
       "      <th>geometry</th>\n",
       "    </tr>\n",
       "  </thead>\n",
       "  <tbody>\n",
       "    <tr>\n",
       "      <th>0</th>\n",
       "      <td>POLYGON ((4.3793095 51.9634066, 4.3796196 51.9...</td>\n",
       "    </tr>\n",
       "    <tr>\n",
       "      <th>1</th>\n",
       "      <td>POINT (2.9999964 55.3333373)</td>\n",
       "    </tr>\n",
       "    <tr>\n",
       "      <th>2</th>\n",
       "      <td>(POLYGON ((-180 51.7940888, -179.9926876 51.79...</td>\n",
       "    </tr>\n",
       "    <tr>\n",
       "      <th>3</th>\n",
       "      <td>LINESTRING (34.9825864 32.1859742, 34.9820626 ...</td>\n",
       "    </tr>\n",
       "    <tr>\n",
       "      <th>4</th>\n",
       "      <td>(POLYGON ((-68.6255319 12.259, -68.62548940000...</td>\n",
       "    </tr>\n",
       "  </tbody>\n",
       "</table>\n",
       "</div>"
      ],
      "text/plain": [
       "                                            geometry\n",
       "0  POLYGON ((4.3793095 51.9634066, 4.3796196 51.9...\n",
       "1                       POINT (2.9999964 55.3333373)\n",
       "2  (POLYGON ((-180 51.7940888, -179.9926876 51.79...\n",
       "3  LINESTRING (34.9825864 32.1859742, 34.9820626 ...\n",
       "4  (POLYGON ((-68.6255319 12.259, -68.62548940000..."
      ]
     },
     "execution_count": 5,
     "metadata": {},
     "output_type": "execute_result"
    }
   ],
   "source": [
    "import pandas as pd\n",
    "import numpy as np\n",
    "import geopandas as gpd\n",
    "from shapely.wkt import loads\n",
    "\n",
    "#load polygons and explode multipolygons\n",
    "df = pd.read_csv('polygons.csv')\n",
    "df.columns = ['index', 'geometry']\n",
    "df.drop('index', axis=1, inplace=True)\n",
    "df['geometry'] = df['geometry'].astype(str)\n",
    "df = df[df.geometry != 'nan']\n",
    "df['geometry'] = df['geometry'].apply(lambda x: loads(x))\n",
    "\n",
    "df.head()"
   ]
  },
  {
   "cell_type": "code",
   "execution_count": 6,
   "metadata": {},
   "outputs": [
    {
     "data": {
      "text/plain": [
       "573"
      ]
     },
     "execution_count": 6,
     "metadata": {},
     "output_type": "execute_result"
    }
   ],
   "source": [
    "len(df)"
   ]
  },
  {
   "cell_type": "code",
   "execution_count": 8,
   "metadata": {},
   "outputs": [
    {
     "data": {
      "text/html": [
       "<div>\n",
       "<style scoped>\n",
       "    .dataframe tbody tr th:only-of-type {\n",
       "        vertical-align: middle;\n",
       "    }\n",
       "\n",
       "    .dataframe tbody tr th {\n",
       "        vertical-align: top;\n",
       "    }\n",
       "\n",
       "    .dataframe thead th {\n",
       "        text-align: right;\n",
       "    }\n",
       "</style>\n",
       "<table border=\"1\" class=\"dataframe\">\n",
       "  <thead>\n",
       "    <tr style=\"text-align: right;\">\n",
       "      <th></th>\n",
       "      <th>left</th>\n",
       "      <th>bottom</th>\n",
       "      <th>right</th>\n",
       "      <th>top</th>\n",
       "      <th>geometry</th>\n",
       "    </tr>\n",
       "  </thead>\n",
       "  <tbody>\n",
       "    <tr>\n",
       "      <th>0</th>\n",
       "      <td>-149.389382</td>\n",
       "      <td>-45.000021</td>\n",
       "      <td>-147.657331</td>\n",
       "      <td>-43.500020</td>\n",
       "      <td>(POLYGON ((-149.3893821528157 -44.250020631576...</td>\n",
       "    </tr>\n",
       "    <tr>\n",
       "      <th>1</th>\n",
       "      <td>-149.389382</td>\n",
       "      <td>-43.500020</td>\n",
       "      <td>-147.657331</td>\n",
       "      <td>-42.000020</td>\n",
       "      <td>(POLYGON ((-149.3893821528157 -42.750019932201...</td>\n",
       "    </tr>\n",
       "    <tr>\n",
       "      <th>2</th>\n",
       "      <td>-149.389382</td>\n",
       "      <td>-42.000020</td>\n",
       "      <td>-147.657331</td>\n",
       "      <td>-40.500019</td>\n",
       "      <td>(POLYGON ((-149.3893821528157 -41.250019232825...</td>\n",
       "    </tr>\n",
       "    <tr>\n",
       "      <th>3</th>\n",
       "      <td>-149.389382</td>\n",
       "      <td>-40.500019</td>\n",
       "      <td>-147.657331</td>\n",
       "      <td>-39.000018</td>\n",
       "      <td>(POLYGON ((-149.3893821528157 -39.750018533450...</td>\n",
       "    </tr>\n",
       "    <tr>\n",
       "      <th>4</th>\n",
       "      <td>-149.389382</td>\n",
       "      <td>-39.000018</td>\n",
       "      <td>-147.657331</td>\n",
       "      <td>-37.500017</td>\n",
       "      <td>(POLYGON ((-149.3893821528157 -38.250017834074...</td>\n",
       "    </tr>\n",
       "  </tbody>\n",
       "</table>\n",
       "</div>"
      ],
      "text/plain": [
       "         left     bottom       right        top  \\\n",
       "0 -149.389382 -45.000021 -147.657331 -43.500020   \n",
       "1 -149.389382 -43.500020 -147.657331 -42.000020   \n",
       "2 -149.389382 -42.000020 -147.657331 -40.500019   \n",
       "3 -149.389382 -40.500019 -147.657331 -39.000018   \n",
       "4 -149.389382 -39.000018 -147.657331 -37.500017   \n",
       "\n",
       "                                            geometry  \n",
       "0  (POLYGON ((-149.3893821528157 -44.250020631576...  \n",
       "1  (POLYGON ((-149.3893821528157 -42.750019932201...  \n",
       "2  (POLYGON ((-149.3893821528157 -41.250019232825...  \n",
       "3  (POLYGON ((-149.3893821528157 -39.750018533450...  \n",
       "4  (POLYGON ((-149.3893821528157 -38.250017834074...  "
      ]
     },
     "execution_count": 8,
     "metadata": {},
     "output_type": "execute_result"
    }
   ],
   "source": [
    "#load hexgrid\n",
    "fname = \"hexgrid.geojson\"\n",
    "\n",
    "df_hex = gpd.read_file(fname)\n",
    "\n",
    "df_hex.head()"
   ]
  },
  {
   "cell_type": "code",
   "execution_count": 9,
   "metadata": {},
   "outputs": [
    {
     "data": {
      "text/plain": [
       "28227"
      ]
     },
     "execution_count": 9,
     "metadata": {},
     "output_type": "execute_result"
    }
   ],
   "source": [
    "len(df_hex)"
   ]
  },
  {
   "cell_type": "code",
   "execution_count": null,
   "metadata": {},
   "outputs": [],
   "source": [
    "%%timeit \n",
    "df_hex['count'] = df_hex.geometry.apply(lambda x: len([i for i in range(len(df.geometry)) if x.intersects(df.geometry[i])]))\n",
    " \n",
    "df_hex.to_csv('hexcounted.csv')\n",
    "df_hex.head()"
   ]
  }
 ],
 "metadata": {
  "kernelspec": {
   "display_name": "Python 3",
   "language": "python",
   "name": "python3"
  },
  "language_info": {
   "codemirror_mode": {
    "name": "ipython",
    "version": 3
   },
   "file_extension": ".py",
   "mimetype": "text/x-python",
   "name": "python",
   "nbconvert_exporter": "python",
   "pygments_lexer": "ipython3",
   "version": "3.6.3"
  }
 },
 "nbformat": 4,
 "nbformat_minor": 2
}
