{
 "cells": [
  {
   "cell_type": "code",
   "execution_count": 3,
   "metadata": {},
   "outputs": [
    {
     "data": {
      "text/html": [
       "<div>\n",
       "<style scoped>\n",
       "    .dataframe tbody tr th:only-of-type {\n",
       "        vertical-align: middle;\n",
       "    }\n",
       "\n",
       "    .dataframe tbody tr th {\n",
       "        vertical-align: top;\n",
       "    }\n",
       "\n",
       "    .dataframe thead th {\n",
       "        text-align: right;\n",
       "    }\n",
       "</style>\n",
       "<table border=\"1\" class=\"dataframe\">\n",
       "  <thead>\n",
       "    <tr style=\"text-align: right;\">\n",
       "      <th></th>\n",
       "      <th>author</th>\n",
       "      <th>title</th>\n",
       "      <th>year</th>\n",
       "      <th>places</th>\n",
       "    </tr>\n",
       "  </thead>\n",
       "  <tbody>\n",
       "    <tr>\n",
       "      <th>0</th>\n",
       "      <td>Jean Spanjersberg</td>\n",
       "      <td>De institutionele groei van het Nederlandse on...</td>\n",
       "      <td>1983</td>\n",
       "      <td>[]</td>\n",
       "    </tr>\n",
       "    <tr>\n",
       "      <th>1</th>\n",
       "      <td>Dick de Winter</td>\n",
       "      <td>Disciplinering van protestgedrag van havenarbe...</td>\n",
       "      <td>1983</td>\n",
       "      <td>[]</td>\n",
       "    </tr>\n",
       "    <tr>\n",
       "      <th>2</th>\n",
       "      <td>Christi Boerdam</td>\n",
       "      <td>Ongehuwde moeders te Rotterdam in het laatste ...</td>\n",
       "      <td>1983</td>\n",
       "      <td>[[Rotterdam, 4.479167, 51.930833]]</td>\n",
       "    </tr>\n",
       "    <tr>\n",
       "      <th>3</th>\n",
       "      <td>B W H Guyt</td>\n",
       "      <td>De visserij op de Noordzee : de lage landen aa...</td>\n",
       "      <td>1983</td>\n",
       "      <td>[[North Sea, 3.0, 56.0]]</td>\n",
       "    </tr>\n",
       "    <tr>\n",
       "      <th>4</th>\n",
       "      <td>Harma Tent</td>\n",
       "      <td>Het beeld van de Amerikaanse indiaan in Iberis...</td>\n",
       "      <td>1983</td>\n",
       "      <td>[[United States, -100.0, 40.0]]</td>\n",
       "    </tr>\n",
       "  </tbody>\n",
       "</table>\n",
       "</div>"
      ],
      "text/plain": [
       "              author                                              title  year  \\\n",
       "0  Jean Spanjersberg  De institutionele groei van het Nederlandse on...  1983   \n",
       "1     Dick de Winter  Disciplinering van protestgedrag van havenarbe...  1983   \n",
       "2    Christi Boerdam  Ongehuwde moeders te Rotterdam in het laatste ...  1983   \n",
       "3         B W H Guyt  De visserij op de Noordzee : de lage landen aa...  1983   \n",
       "4         Harma Tent  Het beeld van de Amerikaanse indiaan in Iberis...  1983   \n",
       "\n",
       "                               places  \n",
       "0                                  []  \n",
       "1                                  []  \n",
       "2  [[Rotterdam, 4.479167, 51.930833]]  \n",
       "3            [[North Sea, 3.0, 56.0]]  \n",
       "4     [[United States, -100.0, 40.0]]  "
      ]
     },
     "execution_count": 3,
     "metadata": {},
     "output_type": "execute_result"
    }
   ],
   "source": [
    "import pandas as pd\n",
    "from ast import literal_eval\n",
    "\n",
    "df = pd.read_csv('thesis_titles_with_toponyms.csv', index_col=0)\n",
    "df['places'] = df['places'].apply(literal_eval)\n",
    "df.head()"
   ]
  },
  {
   "cell_type": "code",
   "execution_count": 4,
   "metadata": {},
   "outputs": [],
   "source": [
    "places = []\n",
    "\n",
    "for index, row in df.iterrows():\n",
    "    for i in row.places:\n",
    "        places.append(i[0])\n"
   ]
  },
  {
   "cell_type": "code",
   "execution_count": 26,
   "metadata": {},
   "outputs": [
    {
     "data": {
      "text/html": [
       "<div>\n",
       "<style scoped>\n",
       "    .dataframe tbody tr th:only-of-type {\n",
       "        vertical-align: middle;\n",
       "    }\n",
       "\n",
       "    .dataframe tbody tr th {\n",
       "        vertical-align: top;\n",
       "    }\n",
       "\n",
       "    .dataframe thead th {\n",
       "        text-align: right;\n",
       "    }\n",
       "</style>\n",
       "<table border=\"1\" class=\"dataframe\">\n",
       "  <thead>\n",
       "    <tr style=\"text-align: right;\">\n",
       "      <th></th>\n",
       "      <th>bbox_east</th>\n",
       "      <th>bbox_north</th>\n",
       "      <th>bbox_south</th>\n",
       "      <th>bbox_west</th>\n",
       "      <th>geometry</th>\n",
       "      <th>place_name</th>\n",
       "    </tr>\n",
       "  </thead>\n",
       "  <tbody>\n",
       "    <tr>\n",
       "      <th>0</th>\n",
       "      <td>13.18089</td>\n",
       "      <td>53.194176</td>\n",
       "      <td>53.185008</td>\n",
       "      <td>13.154951</td>\n",
       "      <td>POLYGON ((13.1549515 53.1940995, 13.1551791 53...</td>\n",
       "      <td>Mahn- und Gedenkstätte Ravensbrück, Lagerstraß...</td>\n",
       "    </tr>\n",
       "  </tbody>\n",
       "</table>\n",
       "</div>"
      ],
      "text/plain": [
       "   bbox_east  bbox_north  bbox_south  bbox_west  \\\n",
       "0   13.18089   53.194176   53.185008  13.154951   \n",
       "\n",
       "                                            geometry  \\\n",
       "0  POLYGON ((13.1549515 53.1940995, 13.1551791 53...   \n",
       "\n",
       "                                          place_name  \n",
       "0  Mahn- und Gedenkstätte Ravensbrück, Lagerstraß...  "
      ]
     },
     "execution_count": 26,
     "metadata": {},
     "output_type": "execute_result"
    }
   ],
   "source": [
    "import osmnx as ox\n",
    "ox.gdf_from_place('Ravensbrück')"
   ]
  },
  {
   "cell_type": "code",
   "execution_count": 27,
   "metadata": {},
   "outputs": [],
   "source": [
    "import osmnx as ox\n",
    "import re\n",
    "import time\n",
    "\n",
    "missed = []\n",
    "\n",
    "# fix historical and problematic placenames\n",
    "def get_polygon(elem):\n",
    "    elem = re.sub(\"[\\(\\[].*?[\\)\\]]\", \"\", elem) # remove everything between brackets\n",
    "    elem.replace(\"Kamp \", \"\")\n",
    "    if elem == \"East Germany\":\n",
    "        gdf = ox.gdf_from_place('Germany')\n",
    "        return gdf['geometry'].iloc[0]\n",
    "    elif elem == \"Russian Empire\":\n",
    "        gdf = ox.gdf_from_place('Russia')\n",
    "        return gdf['geometry'].iloc[0]\n",
    "    elif elem == \"Soviet Union\":\n",
    "        gdf = ox.gdf_from_place('Russia')\n",
    "        return gdf['geometry'].iloc[0]\n",
    "    elif elem == \"Dutch Republic\":\n",
    "        gdf = ox.gdf_from_place('The Netherlands')\n",
    "        return gdf['geometry'].iloc[0]\n",
    "    elif elem == \"Dutch East Indies\":\n",
    "        gdf = ox.gdf_from_place('Indonesia')\n",
    "        return gdf['geometry'].iloc[0]\n",
    "    elif elem == \"Czechoslovakia\":\n",
    "        gdf = ox.gdf_from_place('Czech Republic')\n",
    "        return gdf['geometry'].iloc[0]\n",
    "    elif elem == \"Nazi Germany\":\n",
    "        gdf = ox.gdf_from_place('Germany')\n",
    "        return gdf['geometry'].iloc[0]\n",
    "    elif elem == \"Herzogenbusch concentration camp\":\n",
    "        gdf = ox.gdf_from_place('s Hertogenbosch')\n",
    "        return gdf['geometry'].iloc[0]\n",
    "    elif elem == \"Eastern Scheldt\":\n",
    "        gdf = ox.gdf_from_place('Oosterschelde')\n",
    "        return gdf['geometry'].iloc[0]\n",
    "    elif elem == \"Port of Rotterdam\":\n",
    "        gdf = ox.gdf_from_place('Rotterdam')\n",
    "        return gdf['geometry'].iloc[0]\n",
    "    elif elem == \"French Algeria\":\n",
    "        gdf = ox.gdf_from_place('Algeria')\n",
    "        return gdf['geometry'].iloc[0]\n",
    "    elif elem == \"Westerbork transit camp\":\n",
    "        gdf = ox.gdf_from_place('Westerbork')\n",
    "        return gdf['geometry'].iloc[0]\n",
    "    elif elem == \"Khmer Rouge Killing Fields\":\n",
    "        gdf = ox.gdf_from_place('Killing Fields')\n",
    "        return gdf['geometry'].iloc[0]\n",
    "    elif elem == \"Grand Duchy of Tuscany\":\n",
    "        gdf = ox.gdf_from_place('Tuscany')\n",
    "        return gdf['geometry'].iloc[0]\n",
    "    elif elem == \"Ravensbrück concentration camp\":\n",
    "        gdf = ox.gdf_from_place('Ravensbrück')\n",
    "        return gdf['geometry'].iloc[0]\n",
    "    else:\n",
    "        gdf = ox.gdf_from_place(elem)\n",
    "        try:\n",
    "            g = gdf['geometry'].iloc[0]\n",
    "            return g\n",
    "        except:\n",
    "            missed.append(elem)\n",
    "            pass\n",
    "    \n",
    "l = []\n",
    "for i, elem in enumerate(places):\n",
    "    print(i, elem)\n",
    "    l.append((get_polygon(elem)))\n",
    "dfx = pd.DataFrame(l)\n",
    "dfx.to_csv(\"polygons.csv\")"
   ]
  },
  {
   "cell_type": "code",
   "execution_count": 28,
   "metadata": {},
   "outputs": [
    {
     "data": {
      "text/plain": [
       "[]"
      ]
     },
     "execution_count": 28,
     "metadata": {},
     "output_type": "execute_result"
    }
   ],
   "source": [
    "missed"
   ]
  }
 ],
 "metadata": {
  "kernelspec": {
   "display_name": "Python 3",
   "language": "python",
   "name": "python3"
  },
  "language_info": {
   "codemirror_mode": {
    "name": "ipython",
    "version": 3
   },
   "file_extension": ".py",
   "mimetype": "text/x-python",
   "name": "python",
   "nbconvert_exporter": "python",
   "pygments_lexer": "ipython3",
   "version": "3.6.3"
  }
 },
 "nbformat": 4,
 "nbformat_minor": 2
}
